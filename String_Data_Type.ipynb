{
 "cells": [
  {
   "cell_type": "code",
   "execution_count": null,
   "metadata": {},
   "outputs": [],
   "source": [
    "#String practicals"
   ]
  },
  {
   "cell_type": "code",
   "execution_count": null,
   "metadata": {},
   "outputs": [],
   "source": [
    "# Below are the condition while declarating a variable in python.\n",
    "# String: is nothing but assignment of name or lable.\n",
    "# 1. Variable names can't be start with numbers (digits).\n",
    "#        2var='Danish'\n",
    "# 2. Variable names can't be separated by space \" \".\n",
    "#        var st='Danish'\n",
    "# 3. Variable names can't be contain of any Special characters \" #, %, @, *, &\"\n",
    "#        %var='Danish'\n",
    "#        var&='Danish'\n",
    "#        var#two2='Danish'\n",
    "#        #var='Danish'\n"
   ]
  },
  {
   "cell_type": "code",
   "execution_count": 2,
   "metadata": {},
   "outputs": [
    {
     "name": "stdout",
     "output_type": "stream",
     "text": [
      "Danish Shaikh\n",
      "Naushad ali rezwi\n",
      "Naushad Ali Rezwi\n",
      "NAUSHAD ALI REZWI\n",
      "naushad ali rezwi\n",
      "DanishShaikh\n"
     ]
    }
   ],
   "source": [
    "first_name='Danish'\n",
    "last_name='Shaikh'\n",
    "\n",
    "name='Naushad ali rezwi'\n",
    "print(first_name,last_name)\n",
    "print(name)\n",
    "print(name.title())  #Will make 1st character Uppder case of each word.\n",
    "print(name.upper())  #Will make all upper case.\n",
    "print(name.lower())  #will make all lower\n",
    "\n",
    "print(first_name+last_name)  #Will join/concatinate the strings.\n",
    "\n",
    "\n"
   ]
  },
  {
   "cell_type": "code",
   "execution_count": null,
   "metadata": {},
   "outputs": [],
   "source": [
    "!python"
   ]
  },
  {
   "cell_type": "code",
   "execution_count": null,
   "metadata": {},
   "outputs": [],
   "source": []
  }
 ],
 "metadata": {
  "kernelspec": {
   "display_name": "Python 3",
   "language": "python",
   "name": "python3"
  },
  "language_info": {
   "codemirror_mode": {
    "name": "ipython",
    "version": 3
   },
   "file_extension": ".py",
   "mimetype": "text/x-python",
   "name": "python",
   "nbconvert_exporter": "python",
   "pygments_lexer": "ipython3",
   "version": "3.7.3"
  }
 },
 "nbformat": 4,
 "nbformat_minor": 2
}
