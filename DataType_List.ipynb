{
 "cells": [
  {
   "cell_type": "code",
   "execution_count": 6,
   "metadata": {},
   "outputs": [
    {
     "name": "stdout",
     "output_type": "stream",
     "text": [
      "['dnais', 'rohit', 'mohit', 'saajan', 'prem']\n",
      "[32, 8, 245, 22.0, 9]\n",
      "['danish', 29, 8.99, 'prem', 'rose', 1]\n",
      "[2, 4, 6] ['aa', 'bb', 'cc'] [34, 6.9, 'danish']\n",
      "['dnais', 'rohit', 'mohit', 'saajan', 'prem']\n",
      "['aa', 'b', 'zz', ['dnais', 'rohit', 'mohit', 'saajan', 'prem'], 123, 789, 44.55]\n"
     ]
    }
   ],
   "source": [
    "# List -- list is a collection of items in a perticular order.\n",
    "\n",
    "# list can be define as []\n",
    "\n",
    "list1=['dnais','rohit','mohit','saajan','prem'] # string list\n",
    "print(list1)\n",
    "\n",
    "list2=[32,8,245,22.0,9]    # number list \n",
    "print(list2)\n",
    "\n",
    "list3=['danish',29,8.99,'prem','rose',1] # mixed list\n",
    "print(list3)\n",
    "\n",
    "l1,l2,l3=[2,4,6],['aa','bb','cc'],[34,6.9,'danish']   # multiple list at once.\n",
    "print(l1,l2,l3)\n",
    "\n",
    "list4=list1        # list assignment with other list.\n",
    "print(list4)\n",
    "\n",
    "list5=['aa','b','zz',list1,123,789,44.55]  #list can be made by addiding other list.\n",
    "print(list5)"
   ]
  },
  {
   "cell_type": "code",
   "execution_count": 15,
   "metadata": {},
   "outputs": [
    {
     "name": "stdout",
     "output_type": "stream",
     "text": [
      "['red', 'yellow', 'blue', 'pink', 'white']\n",
      "blue\n",
      "Blue\n",
      "['red', 'yellow']\n",
      "['blue', 'pink', 'white']\n"
     ]
    }
   ],
   "source": [
    "#Access the list elements.\n",
    "\n",
    "list1=['red','yellow','blue','pink','white']\n",
    "\n",
    "print(list1) # print whole list\n",
    "\n",
    "print(list1[2])  # print only 2nd position element.\n",
    "\n",
    "print(list1[2].title()) # print 2nd element with title() funcation\n",
    "\n",
    "print(list1[:2]) # print element position between begning to 2.\n",
    "\n",
    "print(list1[2:]) # print all element from 2nd position."
   ]
  },
  {
   "cell_type": "code",
   "execution_count": 37,
   "metadata": {},
   "outputs": [
    {
     "name": "stdout",
     "output_type": "stream",
     "text": [
      "Ankur, Wellcome to our store again. Geeta, will tell you our new offers!!!\n"
     ]
    }
   ],
   "source": [
    "# placeholder with list.\n",
    "cust_list=['danish','farhan','geeta','rashmi','ankur','liala']\n",
    "message=f\"{cust_list[4].title()}, Wellcome to our store again. {cust_list[2].title()}, will tell you our new offers!!!\"\n",
    "print(message)"
   ]
  },
  {
   "cell_type": "code",
   "execution_count": 32,
   "metadata": {},
   "outputs": [
    {
     "name": "stdout",
     "output_type": "stream",
     "text": [
      "['a', 'b', 'c', 'd', 'e', 'f', 'g']\n",
      "['a', 'b', 'c', 'd', 'e', 'f', 'g', 'dd']\n",
      "['a', 'b', 'c', 'd', 'e', 'f', 'g', 'dd', 44]\n",
      "['a', 'b', 'c', 'd', 'e', 'f', 'g', 'dd', 44, 'danish']\n",
      "['a', 'b', 'c', 'd', 'e', 'f', 'g', 'dd', 44]\n",
      "['a', 'b', 'c', 'd', 'NEW', 'f', 'g', 'dd', 44]\n",
      "['a', 'b', 'INSERT', 'c', 'd', 'NEW', 'f', 'g', 'dd', 44]\n"
     ]
    }
   ],
   "source": [
    "# list element addition, deletion, insertion and replacement.\n",
    "\n",
    "list1=['a','b','c','d','e','f','g']\n",
    "print(list1)\n",
    "\n",
    "list1.append('dd') # Addiding 'STRING' element at end of list\n",
    "print(list1)\n",
    "\n",
    "list1.append(44) # Addiding 'NUMBER' element at end of list.\n",
    "print(list1)\n",
    "\n",
    "list1.append('danish')  # Addiding 'STRING' element at end of list.\n",
    "print(list1)\n",
    "\n",
    "list1.pop()   # Removing last element from the list.\n",
    "print(list1)\n",
    "\n",
    "list1[4]='NEW'  # Replacing 5th position element with new element 'NEW'\n",
    "print(list1)\n",
    "\n",
    "list1.insert(2,'INSERT')  # Insert a element at specific position in a list.\n",
    "print(list1)"
   ]
  },
  {
   "cell_type": "code",
   "execution_count": null,
   "metadata": {},
   "outputs": [],
   "source": []
  }
 ],
 "metadata": {
  "kernelspec": {
   "display_name": "Python 3",
   "language": "python",
   "name": "python3"
  },
  "language_info": {
   "codemirror_mode": {
    "name": "ipython",
    "version": 3
   },
   "file_extension": ".py",
   "mimetype": "text/x-python",
   "name": "python",
   "nbconvert_exporter": "python",
   "pygments_lexer": "ipython3",
   "version": "3.7.3"
  }
 },
 "nbformat": 4,
 "nbformat_minor": 2
}
