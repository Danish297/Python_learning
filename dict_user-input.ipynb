{
 "cells": [
  {
   "cell_type": "code",
   "execution_count": 2,
   "metadata": {},
   "outputs": [],
   "source": [
    "# for k,v in user_0.items():\n",
    "    # Key-value both output we able to see.\n",
    "\n",
    "# How to control the output of dictionary.\n",
    "# 1. for k in user_0.keys();\n",
    "# 2. for v in user_0.values();\n"
   ]
  },
  {
   "cell_type": "code",
   "execution_count": 1,
   "metadata": {},
   "outputs": [
    {
     "name": "stdout",
     "output_type": "stream",
     "text": [
      "fname\n",
      "lname\n",
      "address\n",
      "danish\n",
      "shaikh\n",
      "hyd\n"
     ]
    }
   ],
   "source": [
    "user_dtl={'fname':'danish',\n",
    "          'lname':'shaikh',\n",
    "          'address':'hyd'}\n",
    "\n",
    "for k in user_dtl.keys():     # Only it will deal with keys of the dictionary.\n",
    "    print(k)\n",
    "    \n",
    "for v in user_dtl.values():   # Only it will deal with values of the dictionary.\n",
    "    print(v)"
   ]
  },
  {
   "cell_type": "code",
   "execution_count": 8,
   "metadata": {},
   "outputs": [
    {
     "name": "stdout",
     "output_type": "stream",
     "text": [
      "fname danish\n",
      "lname shaikh\n",
      "address hyd\n"
     ]
    }
   ],
   "source": [
    "for k,v in user_dtl.items():\n",
    "    print(k,v)"
   ]
  },
  {
   "cell_type": "code",
   "execution_count": 10,
   "metadata": {},
   "outputs": [
    {
     "name": "stdout",
     "output_type": "stream",
     "text": [
      "key <fname> has the value <danish>\n",
      "key <lname> has the value <shaikh>\n",
      "key <address> has the value <hyd>\n"
     ]
    }
   ],
   "source": [
    "for k,v in user_dtl.items():\n",
    "    print(f\"key <{k}> has the value <{v}>\")"
   ]
  },
  {
   "cell_type": "code",
   "execution_count": 11,
   "metadata": {},
   "outputs": [
    {
     "name": "stdout",
     "output_type": "stream",
     "text": [
      "[{'green': 5}, {'black': 15}, {'pink': 18}]\n"
     ]
    }
   ],
   "source": [
    "# Nesting of dictionary.\n",
    "\n",
    "alien_0 = {'green':5}\n",
    "alien_1 = {'black':15}\n",
    "alien_2 = {'pink':18}\n",
    "\n",
    "list1 = [alien_0,alien_1,alien_2]\n",
    "\n",
    "print(list1)"
   ]
  },
  {
   "cell_type": "code",
   "execution_count": 13,
   "metadata": {},
   "outputs": [
    {
     "name": "stdout",
     "output_type": "stream",
     "text": [
      "{'alien_0': {'gree': 5}, 'alien_1': {'black': 15}, 'alien_2': {'pink': 18}}\n"
     ]
    }
   ],
   "source": [
    "nested_dict = {'alien_0':{'gree':5},\n",
    "               'alien_1':{'black':15},\n",
    "               'alien_2':{'pink':18}\n",
    "              }\n",
    "\n",
    "print(nested_dict)"
   ]
  },
  {
   "cell_type": "code",
   "execution_count": 15,
   "metadata": {},
   "outputs": [
    {
     "name": "stdout",
     "output_type": "stream",
     "text": [
      "key <alien_0> has the value <{'gree': 5}>\n",
      "key <alien_1> has the value <{'black': 15}>\n",
      "key <alien_2> has the value <{'pink': 18}>\n"
     ]
    }
   ],
   "source": [
    "for k,v in nested_dict.items():\n",
    "    print(f\"key <{k}> has the value <{v}>\")"
   ]
  },
  {
   "cell_type": "code",
   "execution_count": 16,
   "metadata": {},
   "outputs": [],
   "source": [
    "# Accepting the user input."
   ]
  },
  {
   "cell_type": "code",
   "execution_count": 17,
   "metadata": {},
   "outputs": [
    {
     "name": "stdout",
     "output_type": "stream",
     "text": [
      "Tell me something, and I will repeat back to you!How are you danish\n",
      "How are you danish\n"
     ]
    }
   ],
   "source": [
    "message = input(\"Tell me something, and I will repeat back to you!\")\n",
    "print(message)"
   ]
  },
  {
   "cell_type": "code",
   "execution_count": 22,
   "metadata": {},
   "outputs": [
    {
     "name": "stdout",
     "output_type": "stream",
     "text": [
      "Enter your name:: danish Shaikh\n",
      "danish Shaikh\n",
      "Hello, danish Shaikh!\n",
      "Hello, Danish Shaikh!\n"
     ]
    }
   ],
   "source": [
    "name = input(\"Enter your name:: \")\n",
    "print(name) # Simple print the given string.\n",
    "print(f\"Hello, {name}!\")   # Will print the given string with formated string.\n",
    "print(f\"Hello, {name.title()}!\") # Will print the givn string with title() function for more readability."
   ]
  },
  {
   "cell_type": "code",
   "execution_count": null,
   "metadata": {},
   "outputs": [],
   "source": [
    "# *** By default input function treat the given argument as a sting data type."
   ]
  },
  {
   "cell_type": "code",
   "execution_count": null,
   "metadata": {},
   "outputs": [],
   "source": [
    "age = input(\"How old are you:: \")\n",
    "print(age)\n",
    "type(age)"
   ]
  },
  {
   "cell_type": "code",
   "execution_count": 5,
   "metadata": {},
   "outputs": [
    {
     "name": "stdout",
     "output_type": "stream",
     "text": [
      "keep entring anything and I will repat for you.\n",
      "Enter 'quit' for exit\n",
      "Type one more time >> first line\n",
      "Type one more time >> second line\n",
      "Type one more time >> it won't stop like this\n",
      "Type one more time >> you need to enter only quit work\n",
      "Type one more time >> you need to enter only quit word then only u can exti from here.\n",
      "Type one more time >> quit\n"
     ]
    }
   ],
   "source": [
    "message1 = \"keep entring anything and I will repat for you.\"\n",
    "message1 += \"\\nEnter 'quit' for exit\"\n",
    "\n",
    "print(message1)\n",
    "\n",
    "new_massage=''\n",
    "while new_massage != 'quit':\n",
    "    new_massage = input(\"Type one more time >> \")\n",
    "    "
   ]
  },
  {
   "cell_type": "code",
   "execution_count": null,
   "metadata": {},
   "outputs": [],
   "source": [
    "# Type casting.\n",
    "# In python we can convert one data type to another as per requirement."
   ]
  },
  {
   "cell_type": "code",
   "execution_count": 3,
   "metadata": {},
   "outputs": [
    {
     "name": "stdout",
     "output_type": "stream",
     "text": [
      "Whats your name ::  mohit\n",
      "How old are you ::  12\n",
      "Mohit, Please try after 6 year.\n"
     ]
    }
   ],
   "source": [
    "# Validating voting rights.\n",
    "\n",
    "name = input(\"Whats your name ::  \")\n",
    "age = input(\"How old are you ::  \")\n",
    "age = int(age)\n",
    "diff = 18 - age\n",
    "\n",
    "if age >= 18:\n",
    "    print(f\"Congratulations {name.title()}, You can vote this time.\")\n",
    "else:\n",
    "    print(f\"{name.title()}, Please try after {diff} year.\")"
   ]
  },
  {
   "cell_type": "code",
   "execution_count": null,
   "metadata": {},
   "outputs": [],
   "source": []
  }
 ],
 "metadata": {
  "kernelspec": {
   "display_name": "Python 3",
   "language": "python",
   "name": "python3"
  },
  "language_info": {
   "codemirror_mode": {
    "name": "ipython",
    "version": 3
   },
   "file_extension": ".py",
   "mimetype": "text/x-python",
   "name": "python",
   "nbconvert_exporter": "python",
   "pygments_lexer": "ipython3",
   "version": "3.7.3"
  }
 },
 "nbformat": 4,
 "nbformat_minor": 2
}
