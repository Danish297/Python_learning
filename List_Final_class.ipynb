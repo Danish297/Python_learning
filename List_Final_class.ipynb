{
 "cells": [
  {
   "cell_type": "code",
   "execution_count": null,
   "metadata": {},
   "outputs": [],
   "source": [
    "# How to add/ modify / delete key-value from a dictionary data type in python."
   ]
  },
  {
   "cell_type": "code",
   "execution_count": 1,
   "metadata": {},
   "outputs": [
    {
     "name": "stdout",
     "output_type": "stream",
     "text": [
      "{'danish': 'sky blue', 'ShamaAra': 'black', 'Reena': 'pink'}\n"
     ]
    }
   ],
   "source": [
    "# How ot add a key-value (element) to exsisting dictionary.\n",
    "\n",
    "fav_color={'danish':'sky blue','ShamaAra':'black','Reena':'pink'}\n",
    "print(fav_color)"
   ]
  },
  {
   "cell_type": "code",
   "execution_count": 2,
   "metadata": {},
   "outputs": [
    {
     "name": "stdout",
     "output_type": "stream",
     "text": [
      "{'danish': 'sky blue', 'ShamaAra': 'black', 'Reena': 'pink', 'Geeta': 'red'}\n"
     ]
    }
   ],
   "source": [
    "fav_color['Geeta']='red'  # <var_name>['key']='value'\n",
    "print(fav_color)"
   ]
  },
  {
   "cell_type": "code",
   "execution_count": 3,
   "metadata": {},
   "outputs": [
    {
     "name": "stdout",
     "output_type": "stream",
     "text": [
      "{'danish': 'green', 'ShamaAra': 'black', 'Reena': 'pink', 'Geeta': 'red'}\n"
     ]
    }
   ],
   "source": [
    "# How to modify a key-value (element) of exsisting dictionary data type in python.\n",
    "\n",
    "fav_color['danish']='green'  # <var_name>['key']=<'New_Value>'\n",
    "print(fav_color)"
   ]
  },
  {
   "cell_type": "code",
   "execution_count": null,
   "metadata": {},
   "outputs": [],
   "source": [
    "# How to remove/ delete a key-value (element) of exsisting dictionary data type in python."
   ]
  },
  {
   "cell_type": "code",
   "execution_count": 5,
   "metadata": {},
   "outputs": [
    {
     "name": "stdout",
     "output_type": "stream",
     "text": [
      "{'danish': 'green', 'ShamaAra': 'black', 'Geeta': 'red'}\n"
     ]
    }
   ],
   "source": [
    "del fav_color['Reena']  # del <var_name>['key']\n",
    "print(fav_color)"
   ]
  },
  {
   "cell_type": "code",
   "execution_count": 7,
   "metadata": {},
   "outputs": [
    {
     "name": "stdout",
     "output_type": "stream",
     "text": [
      "No value for this key\n"
     ]
    }
   ],
   "source": [
    "# How to check if key is exsist or not in dictionary.\n",
    "ShamaAra=fav_color.get('Shamaara','No value for this key')\n",
    "print(ShamaAra)"
   ]
  },
  {
   "cell_type": "code",
   "execution_count": 21,
   "metadata": {},
   "outputs": [
    {
     "name": "stdout",
     "output_type": "stream",
     "text": [
      "{'fname': 'danish', 'lname': 'shaikh', 'address': 'hyd'}\n"
     ]
    }
   ],
   "source": [
    "# *** Looping through the dictionary\n",
    "\n",
    "user_dtl={'fname':'danish',\n",
    "          'lname':'shaikh',\n",
    "          'address':'hyd'}\n",
    "print(user_dtl)"
   ]
  },
  {
   "cell_type": "code",
   "execution_count": 22,
   "metadata": {},
   "outputs": [
    {
     "name": "stdout",
     "output_type": "stream",
     "text": [
      "\n",
      "Key: fname\n",
      "\n",
      "Value: danish\n",
      "\n",
      "Key: lname\n",
      "\n",
      "Value: shaikh\n",
      "\n",
      "Key: address\n",
      "\n",
      "Value: hyd\n",
      "{'fname': 'danish', 'lname': 'shaikh', 'address': 'hyd'}\n"
     ]
    }
   ],
   "source": [
    "for k,v in user_dtl.items():\n",
    "    print(f\"\\nKey: {k}\")\n",
    "    print(f\"\\nValue: {v}\")\n",
    "print(user_dtl)"
   ]
  },
  {
   "cell_type": "code",
   "execution_count": 27,
   "metadata": {},
   "outputs": [
    {
     "name": "stdout",
     "output_type": "stream",
     "text": [
      "\n",
      "fname:\tDanish\n",
      "\n",
      "lname:\tShaikh\n",
      "\n",
      "address:\tHyd\n"
     ]
    }
   ],
   "source": [
    "for k,v in user_dtl.items():\n",
    "    print(f\"\\n{k}:\\t{v.title()}\")"
   ]
  }
 ],
 "metadata": {
  "kernelspec": {
   "display_name": "Python 3",
   "language": "python",
   "name": "python3"
  },
  "language_info": {
   "codemirror_mode": {
    "name": "ipython",
    "version": 3
   },
   "file_extension": ".py",
   "mimetype": "text/x-python",
   "name": "python",
   "nbconvert_exporter": "python",
   "pygments_lexer": "ipython3",
   "version": "3.7.3"
  }
 },
 "nbformat": 4,
 "nbformat_minor": 2
}
