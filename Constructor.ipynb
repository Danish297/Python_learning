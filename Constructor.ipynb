{
 "cells": [
  {
   "cell_type": "code",
   "execution_count": 1,
   "metadata": {},
   "outputs": [],
   "source": [
    "# Constructor : Its a spacial function/ method inside the class with specific name __init__ .\n",
    "\n",
    "#               It basically use for variable initializaiton.\n",
    "\n",
    "#               It call itselft whenever a object/ Instance of a class created/ initionalized."
   ]
  },
  {
   "cell_type": "code",
   "execution_count": 12,
   "metadata": {},
   "outputs": [
    {
     "name": "stdout",
     "output_type": "stream",
     "text": [
      "My dog name is, Willie.\n",
      "My dog age is, 4 year.\n"
     ]
    }
   ],
   "source": [
    "class Dog:\n",
    "    # Special method : Constructor : __init__\n",
    "    def __init__(self,name,age):\n",
    "        #Inilize name and age.\n",
    "        self.name = name # Bydefining this we can access it everyware inside the class.\n",
    "        self.age = age\n",
    "        \n",
    "    def sit(self):\n",
    "        # Dog will sit in response to a command.\n",
    "        print(f\"{self.name}, is not sitting.\")\n",
    "        \n",
    "    def roll_over(self):\n",
    "        # Dog will roll over in reponse to a command.\n",
    "        print(f\"{self.name}, rolled over.\")\n",
    "        \n",
    "my_dog = Dog('willie',4) # Passging the argument, Runtime arguments.\n",
    "\n",
    "print(f\"My dog name is, {my_dog.name.title()}.\")\n",
    "print(f\"My dog age is, {my_dog.age} year.\")"
   ]
  },
  {
   "cell_type": "code",
   "execution_count": 33,
   "metadata": {},
   "outputs": [
    {
     "name": "stdout",
     "output_type": "stream",
     "text": [
      "Company name is, BMW.\n",
      "This is model of 2014\n",
      "Car color is, red\n"
     ]
    }
   ],
   "source": [
    "class Cars:\n",
    "    def __init__(self,company,model,color):\n",
    "        # here we are assigning value to below properties so it overwirte cominig from object declaration.\n",
    "        self.color = 'red'\n",
    "        self.model = 2014\n",
    "        self.company = 'BMW'\n",
    "        \n",
    "    def company_name(self):\n",
    "        print(f\"Company name is, {self.company}.\")\n",
    "        \n",
    "    def model_name(self):\n",
    "        print(f\"This is model of {self.model}\")\n",
    "        \n",
    "    def car_color(self):\n",
    "        print(f\"Car color is, {self.color}\")\n",
    "        \n",
    "my_car = Cars('Toyota',2012,'black')\n",
    "my_car.company_name()\n",
    "my_car.model_name()\n",
    "my_car.car_color()\n",
    "\n",
    "\n"
   ]
  },
  {
   "cell_type": "code",
   "execution_count": 38,
   "metadata": {},
   "outputs": [
    {
     "name": "stdout",
     "output_type": "stream",
     "text": [
      "Company name is, Toyota.\n",
      "This is model of 2012\n",
      "Car color is, black\n"
     ]
    }
   ],
   "source": [
    "class Cars:\n",
    "    def __init__(self,company,model,color):\n",
    "        # here we are assigning value to below properties, which is supply during Object declaration.\n",
    "        self.color = color\n",
    "        self.model = model\n",
    "        self.company = company\n",
    "        \n",
    "    def company_name(self):\n",
    "        print(f\"Company name is, {self.company}.\")\n",
    "        \n",
    "    def model_name(self):\n",
    "        print(f\"This is model of {self.model}\")\n",
    "        \n",
    "    def car_color(self):\n",
    "        print(f\"Car color is, {self.color}\")\n",
    "        \n",
    "my_car = Cars('Toyota',2012,'black')  # Object declaration.\n",
    "my_car.company_name()                 # Method/ function calling.\n",
    "my_car.model_name()\n",
    "my_car.car_color()"
   ]
  },
  {
   "cell_type": "code",
   "execution_count": null,
   "metadata": {},
   "outputs": [],
   "source": []
  }
 ],
 "metadata": {
  "kernelspec": {
   "display_name": "Python 3",
   "language": "python",
   "name": "python3"
  },
  "language_info": {
   "codemirror_mode": {
    "name": "ipython",
    "version": 3
   },
   "file_extension": ".py",
   "mimetype": "text/x-python",
   "name": "python",
   "nbconvert_exporter": "python",
   "pygments_lexer": "ipython3",
   "version": "3.7.3"
  }
 },
 "nbformat": 4,
 "nbformat_minor": 2
}
