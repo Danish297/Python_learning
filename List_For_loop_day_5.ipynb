{
 "cells": [
  {
   "cell_type": "code",
   "execution_count": 4,
   "metadata": {},
   "outputs": [
    {
     "name": "stdout",
     "output_type": "stream",
     "text": [
      "['bmw', 'audi', 'toyota', 'benz']\n",
      "None\n",
      "['audi', 'benz', 'bmw', 'toyota']\n"
     ]
    }
   ],
   "source": [
    "# Sorting the list.\n",
    "# When we short the list, its permanents.\n",
    "\n",
    "cars=['bmw','audi','toyota','benz']\n",
    "print(cars)\n",
    "\n",
    "print(cars.sort())\n",
    "\n",
    "print(cars)"
   ]
  },
  {
   "cell_type": "code",
   "execution_count": 10,
   "metadata": {},
   "outputs": [
    {
     "name": "stdout",
     "output_type": "stream",
     "text": [
      "['bmw', 'audi', 'toyota', 'benz']\n",
      "None\n",
      "['toyota', 'bmw', 'benz', 'audi']\n"
     ]
    }
   ],
   "source": [
    "# Reverse the list.\n",
    "\n",
    "cars=['bmw','audi','toyota','benz']\n",
    "\n",
    "print(cars)\n",
    "print(cars.sort(reverse = True))\n",
    "print(cars)"
   ]
  },
  {
   "cell_type": "code",
   "execution_count": 25,
   "metadata": {},
   "outputs": [
    {
     "ename": "AttributeError",
     "evalue": "'list' object has no attribute 'sorted'",
     "output_type": "error",
     "traceback": [
      "\u001b[0;31m---------------------------------------------------------------------------\u001b[0m",
      "\u001b[0;31mAttributeError\u001b[0m                            Traceback (most recent call last)",
      "\u001b[0;32m<ipython-input-25-c11ee0aba59c>\u001b[0m in \u001b[0;36m<module>\u001b[0;34m\u001b[0m\n\u001b[1;32m      2\u001b[0m \u001b[0;34m\u001b[0m\u001b[0m\n\u001b[1;32m      3\u001b[0m \u001b[0mcars\u001b[0m\u001b[0;34m=\u001b[0m\u001b[0;34m[\u001b[0m\u001b[0;34m'bmw'\u001b[0m\u001b[0;34m,\u001b[0m\u001b[0;34m'audi'\u001b[0m\u001b[0;34m,\u001b[0m\u001b[0;34m'toyota'\u001b[0m\u001b[0;34m,\u001b[0m\u001b[0;34m'benz'\u001b[0m\u001b[0;34m]\u001b[0m\u001b[0;34m\u001b[0m\u001b[0;34m\u001b[0m\u001b[0m\n\u001b[0;32m----> 4\u001b[0;31m \u001b[0mprint\u001b[0m\u001b[0;34m(\u001b[0m\u001b[0mcars\u001b[0m\u001b[0;34m.\u001b[0m\u001b[0msorted\u001b[0m\u001b[0;34m(\u001b[0m\u001b[0;34m)\u001b[0m\u001b[0;34m)\u001b[0m\u001b[0;34m\u001b[0m\u001b[0;34m\u001b[0m\u001b[0m\n\u001b[0m",
      "\u001b[0;31mAttributeError\u001b[0m: 'list' object has no attribute 'sorted'"
     ]
    }
   ],
   "source": [
    "# Sorting a list temporary.\n",
    "    \n",
    "cars=['bmw','audi','toyota','benz']\n",
    "print(cars.sorted())"
   ]
  },
  {
   "cell_type": "code",
   "execution_count": 15,
   "metadata": {},
   "outputs": [
    {
     "name": "stdout",
     "output_type": "stream",
     "text": [
      "4\n",
      "Length of cars list:  4\n"
     ]
    }
   ],
   "source": [
    "# Getting / Caluclating length of list.\n",
    "\n",
    "cars=['bmw','audi','toyota','benz']\n",
    "\n",
    "print(len(cars))\n",
    "print(\"Length of cars list: \",len(cars))"
   ]
  },
  {
   "cell_type": "code",
   "execution_count": 17,
   "metadata": {},
   "outputs": [
    {
     "name": "stdout",
     "output_type": "stream",
     "text": [
      "danish\n",
      "mohit\n",
      "sara\n",
      "kuldeep\n",
      "hema\n"
     ]
    }
   ],
   "source": [
    "# For loop.\n",
    "\n",
    "students=['danish','mohit','sara','kuldeep','hema']\n",
    "\n",
    "for student in students:\n",
    "    print(student)"
   ]
  },
  {
   "cell_type": "code",
   "execution_count": 18,
   "metadata": {},
   "outputs": [
    {
     "name": "stdout",
     "output_type": "stream",
     "text": [
      "danish\n",
      "mohit\n",
      "sara\n",
      "kuldeep\n",
      "hema\n"
     ]
    }
   ],
   "source": [
    "for i in students:\n",
    "    print(i)"
   ]
  },
  {
   "cell_type": "code",
   "execution_count": 19,
   "metadata": {},
   "outputs": [],
   "source": [
    "#Note we can use \"Any variable name in place of student \" as below the result will be same.\n",
    "\n",
    "# for i in students:\n",
    "#    print(i)\n",
    "\n",
    "#for x in students:\n",
    "#    print(x)\n",
    "\n",
    "# for my in students\n",
    "#    print(my)"
   ]
  },
  {
   "cell_type": "code",
   "execution_count": 24,
   "metadata": {},
   "outputs": [
    {
     "name": "stdout",
     "output_type": "stream",
     "text": [
      " Danish, keep up the good practices!\n",
      " Mohit, keep up the good practices!\n",
      " Sara, keep up the good practices!\n",
      " Kuldeep, keep up the good practices!\n",
      " Hema, keep up the good practices!\n"
     ]
    }
   ],
   "source": [
    "# For loop with placeholders.\n",
    "\n",
    "students=['danish','mohit','sara','kuldeep','hema']\n",
    "\n",
    "for each in students:\n",
    "    print(f\" {each.title()}, keep up the good practices!\")"
   ]
  },
  {
   "cell_type": "code",
   "execution_count": null,
   "metadata": {},
   "outputs": [],
   "source": []
  }
 ],
 "metadata": {
  "kernelspec": {
   "display_name": "Python 3",
   "language": "python",
   "name": "python3"
  },
  "language_info": {
   "codemirror_mode": {
    "name": "ipython",
    "version": 3
   },
   "file_extension": ".py",
   "mimetype": "text/x-python",
   "name": "python",
   "nbconvert_exporter": "python",
   "pygments_lexer": "ipython3",
   "version": "3.7.3"
  }
 },
 "nbformat": 4,
 "nbformat_minor": 2
}
