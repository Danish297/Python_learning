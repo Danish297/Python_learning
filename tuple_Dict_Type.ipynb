{
 "cells": [
  {
   "cell_type": "code",
   "execution_count": null,
   "metadata": {},
   "outputs": [],
   "source": [
    "# Tuples\n",
    "# - Its an immutable data type in python.\n",
    "# - We can't change the element of TUPLE as in LIST.\n",
    "# - Its written in () \" small brackets \"\n",
    "\n",
    "# PEP8 : Pricinples\n",
    "# PEP8 --> Python Enhancement Purpos.\n",
    "\n",
    "# Code is read more often then it written.\n",
    "\n",
    "# 1. Indentation.\n",
    "# 2. Line lenght.\n",
    "# 3. Blank line.\n",
    "\n",
    "#for val in values:\n",
    "    print(val)\n"
   ]
  },
  {
   "cell_type": "code",
   "execution_count": 6,
   "metadata": {},
   "outputs": [
    {
     "name": "stdout",
     "output_type": "stream",
     "text": [
      "('mon', 'tue', 'wed', 'thu', 'fri', 'sat', 'sun')\n"
     ]
    }
   ],
   "source": [
    "tup1=('mon','tue','wed','thu','fri','sat','sun')\n",
    "print(tup1)  # print the all tuple element"
   ]
  },
  {
   "cell_type": "code",
   "execution_count": 16,
   "metadata": {},
   "outputs": [
    {
     "data": {
      "text/plain": [
       "tuple"
      ]
     },
     "execution_count": 16,
     "metadata": {},
     "output_type": "execute_result"
    }
   ],
   "source": [
    "type(tup1)"
   ]
  },
  {
   "cell_type": "code",
   "execution_count": 7,
   "metadata": {},
   "outputs": [
    {
     "name": "stdout",
     "output_type": "stream",
     "text": [
      "fri\n"
     ]
    }
   ],
   "source": [
    "print(tup1[4]) # print only 4th position (4th index) element."
   ]
  },
  {
   "cell_type": "code",
   "execution_count": 8,
   "metadata": {},
   "outputs": [
    {
     "name": "stdout",
     "output_type": "stream",
     "text": [
      "('fri', 'sat', 'sun')\n"
     ]
    }
   ],
   "source": [
    "print(tup1[4:])  # print all element from 4th element to last element."
   ]
  },
  {
   "cell_type": "code",
   "execution_count": 9,
   "metadata": {},
   "outputs": [
    {
     "name": "stdout",
     "output_type": "stream",
     "text": [
      "('wed', 'thu')\n"
     ]
    }
   ],
   "source": [
    "print(tup1[2:4])  # print from 2nd to 3rd index element."
   ]
  },
  {
   "cell_type": "code",
   "execution_count": 10,
   "metadata": {},
   "outputs": [
    {
     "name": "stdout",
     "output_type": "stream",
     "text": [
      "('mon', 'tue', 'wed', 'thu', 'fri', 'sat')\n"
     ]
    }
   ],
   "source": [
    "print(tup1[:6])  # print from 0th to 5th index element."
   ]
  },
  {
   "cell_type": "code",
   "execution_count": 11,
   "metadata": {},
   "outputs": [
    {
     "name": "stdout",
     "output_type": "stream",
     "text": [
      "('mon', 'tue', 'wed', 'thu', 'fri', 'sat', 'sun')\n"
     ]
    }
   ],
   "source": [
    "print(tup1[:])  # print all element as we didn't given start and end index position."
   ]
  },
  {
   "cell_type": "code",
   "execution_count": null,
   "metadata": {},
   "outputs": [],
   "source": [
    "# dictionary data type.\n",
    "# Its a collection of key-value pair, Each key is connected to a value.\n",
    "# Its written in { } \" curly braces\""
   ]
  },
  {
   "cell_type": "code",
   "execution_count": 12,
   "metadata": {},
   "outputs": [
    {
     "name": "stdout",
     "output_type": "stream",
     "text": [
      "{'color': 'green', 'point': 5}\n"
     ]
    }
   ],
   "source": [
    "alian_1={'color':'green','point':5}\n",
    "\n",
    "# color -> key\n",
    "# green -> value\n",
    "\n",
    "print (alian_1)"
   ]
  },
  {
   "cell_type": "code",
   "execution_count": 14,
   "metadata": {},
   "outputs": [
    {
     "name": "stdout",
     "output_type": "stream",
     "text": [
      "green\n"
     ]
    }
   ],
   "source": [
    "# print the value of color or key(color)\n",
    "\n",
    "print(alian_1['color'])"
   ]
  },
  {
   "cell_type": "code",
   "execution_count": 15,
   "metadata": {},
   "outputs": [
    {
     "data": {
      "text/plain": [
       "dict"
      ]
     },
     "execution_count": 15,
     "metadata": {},
     "output_type": "execute_result"
    }
   ],
   "source": [
    "type(alian_1)"
   ]
  },
  {
   "cell_type": "code",
   "execution_count": 29,
   "metadata": {},
   "outputs": [
    {
     "name": "stdout",
     "output_type": "stream",
     "text": [
      "danish Roll_Number is 297 and address is Hyd.\n",
      "Manish Roll_Number is 189 and address is delhi.\n",
      "Reshma Roll_Number is 45 and address is patna.\n",
      "Deepak Roll_Number is 376 and address is Mumbai.\n",
      "Mohan Roll_Number is 57 and address is Kolkata.\n",
      "Anita Roll_Number is 788 and address is Agra.\n"
     ]
    }
   ],
   "source": [
    "student_roll={'danish':297,'Manish':189,'Reshma':45,'Deepak':376,'Mohan':57,'Anita':788}\n",
    "student_add={'danish':'Hyd','Manish':'delhi','Reshma':'patna','Deepak':'Mumbai','Mohan':'Kolkata','Anita':'Agra'}\n",
    "\n",
    "# print student roll number and their address:\n",
    "\n",
    "for val in student_roll:\n",
    "    print(f\"{val} Roll_Number is {student_roll[val]} and address is {student_add[val]}.\")"
   ]
  },
  {
   "cell_type": "code",
   "execution_count": 35,
   "metadata": {},
   "outputs": [
    {
     "name": "stdout",
     "output_type": "stream",
     "text": [
      "Danish Roll_Number is 297 and address is HYD.\n",
      "Manish Roll_Number is 189 and address is DELHI.\n",
      "Reshma Roll_Number is 45 and address is PATNA.\n",
      "Deepak Roll_Number is 376 and address is MUMBAI.\n",
      "Mohan Roll_Number is 57 and address is KOLKATA.\n",
      "Anita Roll_Number is 788 and address is AGRA.\n"
     ]
    }
   ],
   "source": [
    "for val in student_roll:\n",
    "    print(f\"{val.title()} Roll_Number is {student_roll[val]} and address is {student_add[val].upper()}.\")"
   ]
  },
  {
   "cell_type": "code",
   "execution_count": 36,
   "metadata": {},
   "outputs": [
    {
     "name": "stdout",
     "output_type": "stream",
     "text": [
      "Danish Roll_Number is \t 297 and address is \tHYD.\n",
      "Manish Roll_Number is \t 189 and address is \tDELHI.\n",
      "Reshma Roll_Number is \t 45 and address is \tPATNA.\n",
      "Deepak Roll_Number is \t 376 and address is \tMUMBAI.\n",
      "Mohan Roll_Number is \t 57 and address is \tKOLKATA.\n",
      "Anita Roll_Number is \t 788 and address is \tAGRA.\n"
     ]
    }
   ],
   "source": [
    "for val in student_roll:\n",
    "    print(f\"{val.title()} Roll_Number is \\t {student_roll[val]} and address is \\t{student_add[val].upper()}.\")"
   ]
  },
  {
   "cell_type": "code",
   "execution_count": null,
   "metadata": {},
   "outputs": [],
   "source": []
  }
 ],
 "metadata": {
  "kernelspec": {
   "display_name": "Python 3",
   "language": "python",
   "name": "python3"
  },
  "language_info": {
   "codemirror_mode": {
    "name": "ipython",
    "version": 3
   },
   "file_extension": ".py",
   "mimetype": "text/x-python",
   "name": "python",
   "nbconvert_exporter": "python",
   "pygments_lexer": "ipython3",
   "version": "3.7.3"
  }
 },
 "nbformat": 4,
 "nbformat_minor": 2
}
