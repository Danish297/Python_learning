{
 "cells": [
  {
   "cell_type": "code",
   "execution_count": null,
   "metadata": {},
   "outputs": [],
   "source": [
    "# Scilicing of list."
   ]
  },
  {
   "cell_type": "code",
   "execution_count": 4,
   "metadata": {},
   "outputs": [],
   "source": [
    "mystudents=['danish','rohit','papu','promod','khadar','gayas','amit','anand']"
   ]
  },
  {
   "cell_type": "code",
   "execution_count": 1,
   "metadata": {},
   "outputs": [],
   "source": [
    "# How to consider the goupr of students out of given list.\n",
    "# First 3 students only.\n",
    "# indexing will always start form 0."
   ]
  },
  {
   "cell_type": "code",
   "execution_count": 5,
   "metadata": {},
   "outputs": [
    {
     "name": "stdout",
     "output_type": "stream",
     "text": [
      "['danish', 'rohit', 'papu']\n"
     ]
    }
   ],
   "source": [
    "print(mystudents[0:3])\n",
    "\n",
    "# NOTE: Its always exclude the last value. So we need 4 insted of 3."
   ]
  },
  {
   "cell_type": "code",
   "execution_count": 7,
   "metadata": {},
   "outputs": [
    {
     "name": "stdout",
     "output_type": "stream",
     "text": [
      "['papu', 'promod', 'khadar', 'gayas']\n"
     ]
    }
   ],
   "source": [
    "# Requirement to print from papu to gayas.\n",
    "print(mystudents[2:6])   # NOTE: index of gayas is 5 so we need 6, as last value will exclude."
   ]
  },
  {
   "cell_type": "code",
   "execution_count": 8,
   "metadata": {},
   "outputs": [
    {
     "name": "stdout",
     "output_type": "stream",
     "text": [
      "['danish', 'rohit', 'papu']\n"
     ]
    }
   ],
   "source": [
    "print(mystudents[:3])  # Will print first 3 element from list as we didn't give starting index."
   ]
  },
  {
   "cell_type": "code",
   "execution_count": 9,
   "metadata": {},
   "outputs": [
    {
     "name": "stdout",
     "output_type": "stream",
     "text": [
      "['khadar', 'gayas', 'amit', 'anand']\n"
     ]
    }
   ],
   "source": [
    "print(mystudents[4:])  # Will print all element starting at position 4."
   ]
  },
  {
   "cell_type": "code",
   "execution_count": 10,
   "metadata": {},
   "outputs": [],
   "source": [
    "# Making numeric list"
   ]
  },
  {
   "cell_type": "code",
   "execution_count": 12,
   "metadata": {},
   "outputs": [
    {
     "name": "stdout",
     "output_type": "stream",
     "text": [
      "1\n",
      "2\n",
      "3\n",
      "4\n",
      "5\n",
      "6\n",
      "7\n",
      "8\n",
      "9\n"
     ]
    }
   ],
   "source": [
    "for value in range(1,11):    # Need to give 11 as last value will be excluded.\n",
    "    print(value)"
   ]
  },
  {
   "cell_type": "code",
   "execution_count": 16,
   "metadata": {},
   "outputs": [
    {
     "name": "stdout",
     "output_type": "stream",
     "text": [
      "[1, 2, 3, 4, 5, 6, 7, 8, 9, 10]\n"
     ]
    }
   ],
   "source": [
    "numbers=list(range(1,11))\n",
    "print(numbers)"
   ]
  },
  {
   "cell_type": "code",
   "execution_count": 18,
   "metadata": {},
   "outputs": [
    {
     "name": "stdout",
     "output_type": "stream",
     "text": [
      "[0, 2, 4, 6, 8, 10, 12, 14, 16, 18, 20, 22, 24, 26, 28, 30]\n"
     ]
    }
   ],
   "source": [
    "# How to print only even number between 0 to 30\n",
    "even_num=list(range(0,31,2))\n",
    "print(even_num)"
   ]
  },
  {
   "cell_type": "code",
   "execution_count": 19,
   "metadata": {},
   "outputs": [
    {
     "name": "stdout",
     "output_type": "stream",
     "text": [
      "[1, 3, 5, 7, 9, 11, 13, 15, 17, 19, 21, 23, 25, 27, 29]\n"
     ]
    }
   ],
   "source": [
    "# How to print odd number between 0 to 30.\n",
    "odd_num=list(range(1,31,2))\n",
    "print(odd_num)"
   ]
  },
  {
   "cell_type": "code",
   "execution_count": 23,
   "metadata": {},
   "outputs": [
    {
     "name": "stdout",
     "output_type": "stream",
     "text": [
      "['Ankur', 'joy', 'atul', 'danish', 'sohail']\n"
     ]
    }
   ],
   "source": [
    "# Range ----> start point, end point, step count\n",
    "# slicing mystudents[0:3:2]  ------------> take 10 students, print alternet students.\n",
    "\n",
    "students=['Ankur','narendra','joy','ritesh','atul','khadar','danish','leela','sohail','Reena']\n",
    "print(students[0:11:2])"
   ]
  },
  {
   "cell_type": "code",
   "execution_count": 24,
   "metadata": {},
   "outputs": [
    {
     "name": "stdout",
     "output_type": "stream",
     "text": [
      "['dal', 'roti', 'rise', 'cheken', 'malai kofta', 'achar', 'raita']\n"
     ]
    }
   ],
   "source": [
    "# How to make a duplicate copy of the list.\n",
    "\n",
    "my_food=['dal','roti','rise','cheken','malai kofta','achar','raita']\n",
    "frnd_food=my_food[:]\n",
    "print(frnd_food)"
   ]
  },
  {
   "cell_type": "code",
   "execution_count": null,
   "metadata": {},
   "outputs": [],
   "source": []
  }
 ],
 "metadata": {
  "kernelspec": {
   "display_name": "Python 3",
   "language": "python",
   "name": "python3"
  },
  "language_info": {
   "codemirror_mode": {
    "name": "ipython",
    "version": 3
   },
   "file_extension": ".py",
   "mimetype": "text/x-python",
   "name": "python",
   "nbconvert_exporter": "python",
   "pygments_lexer": "ipython3",
   "version": "3.7.3"
  }
 },
 "nbformat": 4,
 "nbformat_minor": 2
}
