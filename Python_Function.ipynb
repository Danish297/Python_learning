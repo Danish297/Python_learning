{
 "cells": [
  {
   "cell_type": "code",
   "execution_count": 1,
   "metadata": {},
   "outputs": [],
   "source": [
    "# Intoduction to python function.\n",
    "# How to define a function in pythong ---  def\n",
    "# Always use small case for defining a funtion."
   ]
  },
  {
   "cell_type": "code",
   "execution_count": 3,
   "metadata": {},
   "outputs": [],
   "source": [
    "# Defining a funciton.\n",
    "\n",
    "def greet_user():\n",
    "    \"\"\" Display a string\"\"\"\n",
    "    print(\"Hello!\")"
   ]
  },
  {
   "cell_type": "code",
   "execution_count": 4,
   "metadata": {},
   "outputs": [
    {
     "name": "stdout",
     "output_type": "stream",
     "text": [
      "Hello!\n"
     ]
    }
   ],
   "source": [
    "# Calling a function.\n",
    "greet_user()"
   ]
  },
  {
   "cell_type": "code",
   "execution_count": 9,
   "metadata": {},
   "outputs": [],
   "source": [
    "# We can pass the argument in two way.\n",
    "# 1. Parameter passing.\n",
    "# 2. Argument passing.\n",
    "\n",
    "# Positional passing.\n",
    "\n",
    "def greet_user(username):  # parameter passing.\n",
    "    print(f\"Hello, {username.title()}!\")"
   ]
  },
  {
   "cell_type": "code",
   "execution_count": 10,
   "metadata": {},
   "outputs": [
    {
     "name": "stdout",
     "output_type": "stream",
     "text": [
      "Hello, Danish!\n"
     ]
    }
   ],
   "source": [
    "greet_user('danish') # Argument passing"
   ]
  },
  {
   "cell_type": "code",
   "execution_count": 11,
   "metadata": {},
   "outputs": [
    {
     "name": "stdout",
     "output_type": "stream",
     "text": [
      "Hello, Usa!\n"
     ]
    }
   ],
   "source": [
    "greet_user('usa') # Argument passing"
   ]
  },
  {
   "cell_type": "code",
   "execution_count": 14,
   "metadata": {},
   "outputs": [],
   "source": [
    "# In python two type of arguments.\n",
    "# Positional argument.\n",
    "# Keyword argument.\n",
    "\n",
    "def describe_pet(animal_type, pet_name):   \n",
    "    print (f\"\\n I have a {animal_type.title()}.\")\n",
    "    print (f\"\\n My {animal_type.title()} name is {pet_name.title()}\")"
   ]
  },
  {
   "cell_type": "code",
   "execution_count": 16,
   "metadata": {},
   "outputs": [
    {
     "name": "stdout",
     "output_type": "stream",
     "text": [
      "\n",
      " I have a Dog.\n",
      "\n",
      " My Dog name is Mounty\n",
      "\n",
      " I have a Mounty.\n",
      "\n",
      " My Mounty name is Dog\n"
     ]
    }
   ],
   "source": [
    "describe_pet('dog','mounty')    # will give the logical output.\n",
    "describe_pet('mounty','dog')    # will not give the logical output due to Positinal arguments"
   ]
  },
  {
   "cell_type": "code",
   "execution_count": 18,
   "metadata": {},
   "outputs": [
    {
     "name": "stdout",
     "output_type": "stream",
     "text": [
      "\n",
      " I have a Dog.\n",
      "\n",
      " My Dog name is Mounty\n"
     ]
    }
   ],
   "source": [
    "describe_pet('dog','mounty')"
   ]
  },
  {
   "cell_type": "code",
   "execution_count": 20,
   "metadata": {},
   "outputs": [
    {
     "name": "stdout",
     "output_type": "stream",
     "text": [
      "\n",
      " I have a Dog.\n",
      "\n",
      " My Dog name is Mounty\n"
     ]
    }
   ],
   "source": [
    "describe_pet(pet_name='mounty',animal_type='dog')  # Keyword arguments."
   ]
  },
  {
   "cell_type": "code",
   "execution_count": null,
   "metadata": {},
   "outputs": [],
   "source": []
  }
 ],
 "metadata": {
  "kernelspec": {
   "display_name": "Python 3",
   "language": "python",
   "name": "python3"
  },
  "language_info": {
   "codemirror_mode": {
    "name": "ipython",
    "version": 3
   },
   "file_extension": ".py",
   "mimetype": "text/x-python",
   "name": "python",
   "nbconvert_exporter": "python",
   "pygments_lexer": "ipython3",
   "version": "3.7.3"
  }
 },
 "nbformat": 4,
 "nbformat_minor": 2
}
