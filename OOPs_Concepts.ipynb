{
 "cells": [
  {
   "cell_type": "code",
   "execution_count": 1,
   "metadata": {},
   "outputs": [],
   "source": [
    "# OOP's Concepts.\n",
    "# OOP Object Oriented Programming.\n",
    "\n",
    "# We have below 3 major concept in OOP's.\n",
    "# 1. Class.\n",
    "# 2. Methods.\n",
    "# 3. Instance.\n",
    "\n",
    "# 1. Class: High level information of a programme.\n",
    "\n",
    "# 2. Methods: its nothing but Functions define inside the class.\n",
    "#                        OR\n",
    "#    Camelcase ----> titlecase()\n",
    "#    eg: Class_name\n",
    "\n",
    "# 3. Instance or Object : Instantiation of an object.\n"
   ]
  },
  {
   "cell_type": "code",
   "execution_count": 2,
   "metadata": {},
   "outputs": [],
   "source": [
    "\n",
    "# We have two type of arguments in pythong as belwo :\n",
    "# 1. Keyword arguments.\n",
    "# 2. Positional arguments.\n",
    "\n",
    "# NOTE: Whenever you declaring a method inside a Class, you have pass argument it to \"Self\"\n"
   ]
  },
  {
   "cell_type": "code",
   "execution_count": 3,
   "metadata": {},
   "outputs": [],
   "source": [
    "# Suppose we building a E-Commerce site which involve below three things.\n",
    "# 1. Login greeting.\n",
    "# 2. Addiding items to the cart.\n",
    "# 3. Checkout by successfull payment."
   ]
  },
  {
   "cell_type": "code",
   "execution_count": 9,
   "metadata": {},
   "outputs": [],
   "source": [
    "# Here we create a class \"ECommerce\" and methonds inside it.\n",
    "\n",
    "class ECommerce:\n",
    "    def greet_user():\n",
    "        print(\"Wellcome back!!\")\n",
    "    def add_to_cart():\n",
    "        print(\"Items added to cart.\")\n",
    "    def checkout():\n",
    "        print(\"Payments recevied.\")"
   ]
  },
  {
   "cell_type": "code",
   "execution_count": 11,
   "metadata": {},
   "outputs": [
    {
     "name": "stdout",
     "output_type": "stream",
     "text": [
      "Wellcome back!!\n",
      "Items added to cart.\n",
      "Payments recevied.\n"
     ]
    }
   ],
   "source": [
    "# Now we create an object/ Instance for class \"ECommerce\" to access the methods of its.\n",
    "\n",
    "abc = ECommerce\n",
    "abc.greet_user()\n",
    "abc.add_to_cart()\n",
    "abc.checkout()\n"
   ]
  },
  {
   "cell_type": "code",
   "execution_count": 28,
   "metadata": {},
   "outputs": [
    {
     "name": "stdout",
     "output_type": "stream",
     "text": [
      "Wellcome back Danish!!\n",
      "Items Iron, added to cart.\n",
      "Payments of 450, recevied.\n"
     ]
    }
   ],
   "source": [
    "# Passing arguments to methods.\n",
    "\n",
    "class ECommerce2:\n",
    "    def greet_user(uname):\n",
    "        print(f\"Wellcome back {uname}!!\")\n",
    "    def add_to_cart(items):\n",
    "        print(f\"Items {items}, added to cart.\")\n",
    "    def checkout(amount):\n",
    "        print(f\"Payments of {amount}, recevied.\")\n",
    "        \n",
    "abc = ECommerce2\n",
    "abc.greet_user('Danish')\n",
    "abc.add_to_cart('Iron')\n",
    "abc.checkout(450)"
   ]
  },
  {
   "cell_type": "code",
   "execution_count": 29,
   "metadata": {},
   "outputs": [
    {
     "name": "stdout",
     "output_type": "stream",
     "text": [
      "Wellcome back Danish!!\n",
      "Items ('Iron', 'Mirror'), added to cart.\n",
      "Payments of 450, recevied.\n"
     ]
    }
   ],
   "source": [
    "# Passing multiple arguments.\n",
    "\n",
    "class ECommerce2:\n",
    "    def greet_user(uname):\n",
    "        print(f\"Wellcome back {uname}!!\")\n",
    "    def add_to_cart(items1,item2):\n",
    "        print(f\"Items {items1,item2}, added to cart.\")\n",
    "    def checkout(amount):\n",
    "        print(f\"Payments of {amount}, recevied.\")\n",
    "        \n",
    "abc = ECommerce2\n",
    "abc.greet_user('Danish')\n",
    "abc.add_to_cart('Iron','Mirror')\n",
    "abc.checkout(450)"
   ]
  },
  {
   "cell_type": "code",
   "execution_count": 34,
   "metadata": {},
   "outputs": [
    {
     "name": "stdout",
     "output_type": "stream",
     "text": [
      "\n",
      "Wellcome back danish!!\n",
      "Items ['Watch', 'Cap', 'mirror', 'tv', 'iphone'], added to cart.\n",
      "Payments of 629, recevied.\n",
      "\n",
      "Wellcome back danish!!\n",
      "Items ('bed sheet', 'pillow cover', 'jar', 'spoons', 'mirror'), added to cart.\n",
      "Payments of 629, recevied.\n",
      "\n",
      "Wellcome back danish!!\n",
      "Items {'Iron': 'LG', 'TV': 'Sumsung', 'Camera': 'Nikon'}, added to cart.\n",
      "Payments of 629, recevied.\n"
     ]
    }
   ],
   "source": [
    "# Passing list, tuple and dict as an arguments.\n",
    "\n",
    "class ECommerce2:\n",
    "    def greet_user(uname):\n",
    "        print(f\"\\nWellcome back {uname}!!\")\n",
    "    def add_to_cart(items):\n",
    "        print(f\"Items {items}, added to cart.\")\n",
    "    def checkout(amount):\n",
    "        print(f\"Payments of {amount}, recevied.\")\n",
    "\n",
    "user_name = 'danish'\n",
    "\n",
    "item_list=['Watch',\"Cap\",\"mirror\",'tv','iphone']\n",
    "item_tup=('bed sheet','pillow cover','jar','spoons','mirror')\n",
    "item_dict={'Iron':'LG',\n",
    "           'TV':'Sumsung',\n",
    "           'Camera':'Nikon'}\n",
    "\n",
    "amount = 629\n",
    "\n",
    "abc = ECommerce2\n",
    "abc.greet_user(user_name)\n",
    "abc.add_to_cart(item_list)  # Passing list as an arguments.\n",
    "abc.checkout(amount)\n",
    "\n",
    "abc.greet_user(user_name)\n",
    "abc.add_to_cart(item_tup)  # Passing tupple as an arguments.\n",
    "abc.checkout(amount)\n",
    "\n",
    "\n",
    "abc.greet_user(user_name)\n",
    "abc.add_to_cart(item_dict)  # Passing dict as an arguments.\n",
    "abc.checkout(amount)\n"
   ]
  },
  {
   "cell_type": "code",
   "execution_count": null,
   "metadata": {},
   "outputs": [],
   "source": []
  }
 ],
 "metadata": {
  "kernelspec": {
   "display_name": "Python 3",
   "language": "python",
   "name": "python3"
  },
  "language_info": {
   "codemirror_mode": {
    "name": "ipython",
    "version": 3
   },
   "file_extension": ".py",
   "mimetype": "text/x-python",
   "name": "python",
   "nbconvert_exporter": "python",
   "pygments_lexer": "ipython3",
   "version": "3.7.3"
  }
 },
 "nbformat": 4,
 "nbformat_minor": 2
}
